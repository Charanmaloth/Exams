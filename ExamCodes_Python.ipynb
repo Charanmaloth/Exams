{
  "nbformat": 4,
  "nbformat_minor": 0,
  "metadata": {
    "colab": {
      "provenance": [],
      "authorship_tag": "ABX9TyN/KPu7awXBzwl8iSjGNMP0",
      "include_colab_link": true
    },
    "kernelspec": {
      "name": "python3",
      "display_name": "Python 3"
    },
    "language_info": {
      "name": "python"
    }
  },
  "cells": [
    {
      "cell_type": "markdown",
      "metadata": {
        "id": "view-in-github",
        "colab_type": "text"
      },
      "source": [
        "<a href=\"https://colab.research.google.com/github/Charanmaloth/Exams/blob/main/ExamCodes_Python.ipynb\" target=\"_parent\"><img src=\"https://colab.research.google.com/assets/colab-badge.svg\" alt=\"Open In Colab\"/></a>"
      ]
    },
    {
      "cell_type": "code",
      "source": [
        "!git clone https://github.com/Charanmaloth/Exams.git"
      ],
      "metadata": {
        "colab": {
          "base_uri": "https://localhost:8080/"
        },
        "id": "30SkTCpOG35l",
        "outputId": "585e9849-f36c-4bd5-875a-2212c647c0cc"
      },
      "execution_count": 1,
      "outputs": [
        {
          "output_type": "stream",
          "name": "stdout",
          "text": [
            "Cloning into 'Exams'...\n",
            "remote: Enumerating objects: 3, done.\u001b[K\n",
            "remote: Counting objects: 100% (3/3), done.\u001b[K\n",
            "remote: Total 3 (delta 0), reused 0 (delta 0), pack-reused 0 (from 0)\u001b[K\n",
            "Receiving objects: 100% (3/3), done.\n"
          ]
        }
      ]
    },
    {
      "cell_type": "code",
      "source": [
        "!pip install geopandas"
      ],
      "metadata": {
        "colab": {
          "base_uri": "https://localhost:8080/"
        },
        "id": "Z_iZRHpaHNey",
        "outputId": "548f6c08-2478-412b-a8e4-b614df5162bb"
      },
      "execution_count": 2,
      "outputs": [
        {
          "output_type": "stream",
          "name": "stdout",
          "text": [
            "Requirement already satisfied: geopandas in /usr/local/lib/python3.10/dist-packages (0.14.4)\n",
            "Requirement already satisfied: fiona>=1.8.21 in /usr/local/lib/python3.10/dist-packages (from geopandas) (1.9.6)\n",
            "Requirement already satisfied: numpy>=1.22 in /usr/local/lib/python3.10/dist-packages (from geopandas) (1.26.4)\n",
            "Requirement already satisfied: packaging in /usr/local/lib/python3.10/dist-packages (from geopandas) (24.1)\n",
            "Requirement already satisfied: pandas>=1.4.0 in /usr/local/lib/python3.10/dist-packages (from geopandas) (2.1.4)\n",
            "Requirement already satisfied: pyproj>=3.3.0 in /usr/local/lib/python3.10/dist-packages (from geopandas) (3.6.1)\n",
            "Requirement already satisfied: shapely>=1.8.0 in /usr/local/lib/python3.10/dist-packages (from geopandas) (2.0.5)\n",
            "Requirement already satisfied: attrs>=19.2.0 in /usr/local/lib/python3.10/dist-packages (from fiona>=1.8.21->geopandas) (24.2.0)\n",
            "Requirement already satisfied: certifi in /usr/local/lib/python3.10/dist-packages (from fiona>=1.8.21->geopandas) (2024.7.4)\n",
            "Requirement already satisfied: click~=8.0 in /usr/local/lib/python3.10/dist-packages (from fiona>=1.8.21->geopandas) (8.1.7)\n",
            "Requirement already satisfied: click-plugins>=1.0 in /usr/local/lib/python3.10/dist-packages (from fiona>=1.8.21->geopandas) (1.1.1)\n",
            "Requirement already satisfied: cligj>=0.5 in /usr/local/lib/python3.10/dist-packages (from fiona>=1.8.21->geopandas) (0.7.2)\n",
            "Requirement already satisfied: six in /usr/local/lib/python3.10/dist-packages (from fiona>=1.8.21->geopandas) (1.16.0)\n",
            "Requirement already satisfied: python-dateutil>=2.8.2 in /usr/local/lib/python3.10/dist-packages (from pandas>=1.4.0->geopandas) (2.8.2)\n",
            "Requirement already satisfied: pytz>=2020.1 in /usr/local/lib/python3.10/dist-packages (from pandas>=1.4.0->geopandas) (2024.1)\n",
            "Requirement already satisfied: tzdata>=2022.1 in /usr/local/lib/python3.10/dist-packages (from pandas>=1.4.0->geopandas) (2024.1)\n"
          ]
        }
      ]
    },
    {
      "cell_type": "markdown",
      "source": [
        "# Test - 1"
      ],
      "metadata": {
        "id": "DszXoQrwaaFW"
      }
    },
    {
      "cell_type": "code",
      "execution_count": null,
      "metadata": {
        "colab": {
          "base_uri": "https://localhost:8080/"
        },
        "id": "4IgbecR8XYLp",
        "outputId": "d543b177-5178-417f-bb71-fdf66d9f2575"
      },
      "outputs": [
        {
          "output_type": "stream",
          "name": "stdout",
          "text": [
            "Enter : lloheereth\n",
            "Enter : 2\n",
            "oheerethll\n"
          ]
        }
      ],
      "source": [
        "# i/p1: string of words\n",
        "# i/p2: N, number of times rotation happens\n",
        "# output: return the correct words\n",
        "# i/p: lloheereth\n",
        "#      2\n",
        "# o/p: oheerethll\n",
        "def left_rotate(s,d):\n",
        "  s = list(s)\n",
        "  s[:d]=reversed(s[:d])\n",
        "  s[d:]=reversed(s[d:])\n",
        "  s.reverse()\n",
        "  return ''.join(s)\n",
        "\n",
        "if __name__==\"__main__\":\n",
        "  str1 = input(\"Enter : \")\n",
        "  n = int(input('Enter : '))\n",
        "  str1 = left_rotate(str1, n)\n",
        "  print(str1)"
      ]
    },
    {
      "cell_type": "code",
      "source": [
        "# Valid Parenthesis\n",
        "def isValid(s):\n",
        "  L = []\n",
        "  bracket = {')':'(','}':'{',']':'['}\n",
        "  for char in s:\n",
        "    if char in bracket.values():\n",
        "      L.append(char)\n",
        "    elif char in bracket.keys():\n",
        "      if not L or L.pop() != bracket[char]:\n",
        "        return False\n",
        "    else:\n",
        "      return False\n",
        "    return not L\n",
        "s = input()\n",
        "print(isValid(s))"
      ],
      "metadata": {
        "colab": {
          "base_uri": "https://localhost:8080/"
        },
        "id": "wtGDKp1uZIA0",
        "outputId": "27afbfd5-82d7-4639-b778-0d0099df939f"
      },
      "execution_count": null,
      "outputs": [
        {
          "output_type": "stream",
          "name": "stdout",
          "text": [
            "{}[[])\n",
            "False\n"
          ]
        }
      ]
    },
    {
      "cell_type": "markdown",
      "source": [
        "# Test - 2"
      ],
      "metadata": {
        "id": "bUxsD3yfaiJA"
      }
    },
    {
      "cell_type": "code",
      "source": [
        "# i/p: leet**cod*e\n",
        "# o/p: lecoe\n",
        "def removeStars(s):\n",
        "  l = []\n",
        "  for char in s:\n",
        "    if char == '*':\n",
        "      l.pop()\n",
        "    else:\n",
        "      l.append(char)\n",
        "  return ''.join(l)\n",
        "s = input()\n",
        "res = removeStars(s)\n",
        "print(res)"
      ],
      "metadata": {
        "colab": {
          "base_uri": "https://localhost:8080/"
        },
        "id": "n-WTNN4ybDMf",
        "outputId": "7501d995-8fca-4806-d4e2-cfcb58d02f56"
      },
      "execution_count": null,
      "outputs": [
        {
          "output_type": "stream",
          "name": "stdout",
          "text": [
            "leet**cod*e\n",
            "lecoe\n"
          ]
        }
      ]
    },
    {
      "cell_type": "code",
      "source": [
        "#Pair of numbers in an array that sum up to a given target value\n",
        "# i/p: 5 // num of elements\n",
        "#      1 2 3 4 5 // elements in an array\n",
        "#      10 // target sum\n",
        "def pair_nums():\n",
        "  n = int(input())\n",
        "  nums = list(map(int,input().split()))\n",
        "  target = int(input())\n",
        "  _map = {}\n",
        "  for i in range(len(nums)):\n",
        "    num = nums[i]\n",
        "    complement = target - num\n",
        "    if complement in _map:\n",
        "      print('Pair Found({} {})'.format(nums[_map[complement]],nums[i]))\n",
        "      return\n",
        "    _map[num]=i\n",
        "  print('Pair Not Found')\n",
        "pair_nums()"
      ],
      "metadata": {
        "colab": {
          "base_uri": "https://localhost:8080/"
        },
        "id": "q_gykAQjcDER",
        "outputId": "d114e8c2-4f1f-46d2-94ed-b2819b8c7f33"
      },
      "execution_count": null,
      "outputs": [
        {
          "output_type": "stream",
          "name": "stdout",
          "text": [
            "5\n",
            "1 2 3 4 5\n",
            "9\n",
            "Pair Found(45)\n"
          ]
        }
      ]
    },
    {
      "cell_type": "markdown",
      "source": [
        "# Test - 3"
      ],
      "metadata": {
        "id": "jiIShyTgamAL"
      }
    },
    {
      "cell_type": "code",
      "source": [
        "#Count of Unique Characters\n",
        "# i/p: abcd\n",
        "#      bcde\n",
        "# o/p: 5\n",
        "def count_unique(n1,n2):\n",
        "  combined = n1 + n2\n",
        "  unique = set(combined)\n",
        "  return len(unique)\n",
        "n1 = input().strip()\n",
        "n2 = input().strip()\n",
        "print(count_unique(n1,n2))"
      ],
      "metadata": {
        "colab": {
          "base_uri": "https://localhost:8080/"
        },
        "id": "VD0Hd1iaeaII",
        "outputId": "1bdd269b-7b65-4191-bb3f-b0f907aadbba"
      },
      "execution_count": null,
      "outputs": [
        {
          "output_type": "stream",
          "name": "stdout",
          "text": [
            "abcd\n",
            "bcde\n",
            "5\n"
          ]
        }
      ]
    },
    {
      "cell_type": "code",
      "source": [
        "#Palindrome\n",
        "def palindrome(s):\n",
        "  return s == s[::-1]\n",
        "s = input().strip()\n",
        "if palindrome(s):\n",
        "  print('true')\n",
        "else:\n",
        "  print('false')"
      ],
      "metadata": {
        "colab": {
          "base_uri": "https://localhost:8080/"
        },
        "id": "uSRwEUJafL8v",
        "outputId": "d57f6f20-e79f-4da4-edc3-b7efca3ee940"
      },
      "execution_count": null,
      "outputs": [
        {
          "output_type": "stream",
          "name": "stdout",
          "text": [
            "aba\n",
            "true\n"
          ]
        }
      ]
    },
    {
      "cell_type": "markdown",
      "source": [
        "# Test - 4"
      ],
      "metadata": {
        "id": "s7ZGoSGkasMe"
      }
    },
    {
      "cell_type": "code",
      "source": [
        "#Given two numbers a and b where 1<=a<=b. find the numbers of perfect squares between a and b range(a and b are inclusive)\n",
        "def count_squares(a,b):\n",
        "  count = 0\n",
        "  for i in range(a,b+1):\n",
        "    for j in range(1,int(i**0.5)+1):\n",
        "      if j*j==i:\n",
        "        count += 1\n",
        "  return count\n",
        "def main():\n",
        "  a = int(input())\n",
        "  b = int(input())\n",
        "  print(count_squares(a,b))\n",
        "if __name__ ==\"__main__\":\n",
        "  main()"
      ],
      "metadata": {
        "colab": {
          "base_uri": "https://localhost:8080/"
        },
        "id": "oIk9YjigAl4a",
        "outputId": "dda4c78a-d208-4595-fe8b-695127c51c4b"
      },
      "execution_count": null,
      "outputs": [
        {
          "output_type": "stream",
          "name": "stdout",
          "text": [
            "1\n",
            "10\n",
            "3\n"
          ]
        }
      ]
    },
    {
      "cell_type": "code",
      "source": [
        "#You are given an integer, N. You have to turn it into a binary representation of it and find out how many set bits are in the binary representation.\n",
        "#i/p: 8\n",
        "#o/p: 1\n",
        "# 8 in binary is 1000.\n",
        "def count_set_bits(n):\n",
        "    count = 0\n",
        "    while n:\n",
        "        count += n & 1\n",
        "        n >>= 1\n",
        "    return count\n",
        "\n",
        "if __name__ == \"__main__\":\n",
        "    i = int(input())\n",
        "    print(count_set_bits(i))\n"
      ],
      "metadata": {
        "colab": {
          "base_uri": "https://localhost:8080/"
        },
        "id": "_zYpU-4nsOoP",
        "outputId": "60fdda34-dc88-4f5b-a0c3-502d83716bed"
      },
      "execution_count": null,
      "outputs": [
        {
          "output_type": "stream",
          "name": "stdout",
          "text": [
            "8\n",
            "1\n"
          ]
        }
      ]
    },
    {
      "cell_type": "code",
      "source": [
        "#Write a program to count the number of digits in an integer. If a number is negative or zero print Invalid.\n",
        "#i/p: 234\n",
        "#o/p: 3\n",
        "def count_digit(n):\n",
        "    if n == 0:\n",
        "        return 1\n",
        "    count = 0\n",
        "    while n != 0:\n",
        "        n = n // 10\n",
        "        count += 1\n",
        "    return count\n",
        "\n",
        "def main():\n",
        "    n = int(input().strip())\n",
        "    print(count_digit(n))\n",
        "\n",
        "if __name__ == \"__main__\":\n",
        "  main()"
      ],
      "metadata": {
        "colab": {
          "base_uri": "https://localhost:8080/"
        },
        "id": "N6DEVIiVsohf",
        "outputId": "a1a33ad3-5433-4691-983e-c0f59f703655"
      },
      "execution_count": null,
      "outputs": [
        {
          "output_type": "stream",
          "name": "stdout",
          "text": [
            "234\n",
            "3\n"
          ]
        }
      ]
    },
    {
      "cell_type": "code",
      "source": [
        "#Danish has a problem to Print numbers between 1 to n which are not multiple of 4 or 5. Can you help him to solve this problem?\n",
        "#i/p: 4\n",
        "#o/p: 1 2 3\n",
        "def main():\n",
        "    n = int(input().strip())\n",
        "    for i in range(1, n + 1):\n",
        "        if i % 4 == 0 or i % 5 == 0:\n",
        "            continue\n",
        "        else:\n",
        "            print(i, end=\" \")\n",
        "\n",
        "if __name__ == \"__main__\":\n",
        "    main()\n"
      ],
      "metadata": {
        "colab": {
          "base_uri": "https://localhost:8080/"
        },
        "id": "Ypeovqhis6BS",
        "outputId": "8cc83066-23e3-42c7-be25-6fa5df63cab6"
      },
      "execution_count": null,
      "outputs": [
        {
          "output_type": "stream",
          "name": "stdout",
          "text": [
            "4\n",
            "1 2 3 "
          ]
        }
      ]
    },
    {
      "cell_type": "markdown",
      "source": [
        "# DSA Test - 1"
      ],
      "metadata": {
        "id": "5NOVODA4aOyt"
      }
    },
    {
      "cell_type": "code",
      "source": [
        "import sys\n",
        "class Node:\n",
        "    def __init__(self, val):\n",
        "        self.left = None\n",
        "        self.right = None\n",
        "        self.data = val\n",
        "def displayMax(root):\n",
        "  def in_order_traversal(node):\n",
        "    if node is None:\n",
        "      return\n",
        "    in_order_traversal(node.left)\n",
        "    count[node.data] = count.get(node.data, 0)+1\n",
        "    in_order_traversal(node.right)\n",
        "  if not node:\n",
        "\n",
        "print(displayMax(root))"
      ],
      "metadata": {
        "colab": {
          "base_uri": "https://localhost:8080/"
        },
        "id": "l9TWdeQ0CBv1",
        "outputId": "636d3b3f-0f7a-4d7c-9a71-e273f1a5de8a"
      },
      "execution_count": null,
      "outputs": [
        {
          "output_type": "stream",
          "name": "stdout",
          "text": [
            "4\n"
          ]
        }
      ]
    },
    {
      "cell_type": "code",
      "source": [
        "# i/p: ad*c\n",
        "#      ad*c\n",
        "# o/p: True\n",
        "def removeStr(s):\n",
        "  L = []\n",
        "  for char in s:\n",
        "    if char == '*':\n",
        "      if L:\n",
        "        L.pop()\n",
        "    else:\n",
        "      L.append(char)\n",
        "  return ''.join(L)\n",
        "def compareStr(s1, s2):\n",
        "  return removeStr(s1) == removeStr(s2)\n",
        "s1 = input()\n",
        "s2 = input()\n",
        "print(compareStr(s1, s2))"
      ],
      "metadata": {
        "colab": {
          "base_uri": "https://localhost:8080/"
        },
        "id": "Avx3ailuCxJG",
        "outputId": "d7bd3300-20ba-4294-ea2b-ee67a5d5657a"
      },
      "execution_count": null,
      "outputs": [
        {
          "output_type": "stream",
          "name": "stdout",
          "text": [
            "ab*c\n",
            "ad*c\n",
            "True\n"
          ]
        }
      ]
    },
    {
      "cell_type": "code",
      "source": [
        "# i/p : 4\n",
        "#       2 4 8 6\n",
        "# o/p : True\n",
        "def arithmeticProgression(n):\n",
        "  if len(n) < 2:\n",
        "    return True\n",
        "  n.sort()\n",
        "  common = n[1] - n[0]\n",
        "  for i in range(2, len(n)):\n",
        "    if n[i] - n[i-1] != common:\n",
        "      return False\n",
        "  return True\n",
        "x = int(input())\n",
        "n = list(map(int, input().split()))\n",
        "print(arithmeticProgression(n))"
      ],
      "metadata": {
        "colab": {
          "base_uri": "https://localhost:8080/"
        },
        "id": "5H7k1rrGETLy",
        "outputId": "4347303b-10fc-4e97-e810-61cb5421fb57"
      },
      "execution_count": null,
      "outputs": [
        {
          "output_type": "stream",
          "name": "stdout",
          "text": [
            "2\n",
            "2 4 8 6\n",
            "True\n"
          ]
        }
      ]
    },
    {
      "cell_type": "markdown",
      "source": [
        "# DSA Test - 2"
      ],
      "metadata": {
        "id": "OfEqRa3VaDv0"
      }
    },
    {
      "cell_type": "markdown",
      "source": [
        "Salman Khan                                                       \n",
        "i/p: abjnIL09                                                    \n",
        "o/p: password valid                                               \n",
        "i/p: jjnaskpk                                                     \n",
        "o/p: Invalid password                                            \n",
        "\n",
        "Atleast one nummeric digit                                           \n",
        "Atleast one small/lower case letter                                \n",
        "Atleast one capital/upper case letter                                   \n",
        "Must not have space                                                    \n",
        "Must not have slash                                                  \n",
        "if Atleast 6 characters (Valid)\n",
        "else (Invalid)"
      ],
      "metadata": {
        "id": "v_LS9s_QQSCm"
      }
    },
    {
      "cell_type": "code",
      "source": [
        "def check_password(password):\n",
        "  n = len(password)\n",
        "  if n < 6:\n",
        "    return False\n",
        "\n",
        "  has_upper = has_lower = has_digit = False\n",
        "  for char in password:\n",
        "    if char == ' ' or char == '/':\n",
        "      return False\n",
        "    if char.isupper():\n",
        "      has_upper = True\n",
        "    if char.islower():\n",
        "      has_lower = True\n",
        "    if char.isdigit():\n",
        "      has_digit = True\n",
        "  return has_upper and has_lower and has_digit\n",
        "\n",
        "def main():\n",
        "  password = input()\n",
        "  if check_password(password):\n",
        "    print('password valid')\n",
        "  else:\n",
        "    print('Invalid password')\n",
        "if __name__ == '__main__':\n",
        "  main()"
      ],
      "metadata": {
        "colab": {
          "base_uri": "https://localhost:8080/"
        },
        "id": "BGgmRvmxRTBn",
        "outputId": "459ce8c1-e386-4a80-aa2d-07389be3b4cc"
      },
      "execution_count": null,
      "outputs": [
        {
          "output_type": "stream",
          "name": "stdout",
          "text": [
            "abjnIL09\n",
            "password valid\n"
          ]
        }
      ]
    },
    {
      "cell_type": "markdown",
      "source": [
        "Sundar pichai                                                       \n",
        "\n",
        "ascii value A to Z is 65 to 90                                    \n",
        "ascii value a to z is 97 to 122                                       \n",
        "ascii value of space charcters is 32                                  \n",
        "\n",
        "i/p: 796115110113721110141108                                           \n",
        "o/p: PrepInsta                                                      "
      ],
      "metadata": {
        "id": "C3atpWQmTcve"
      }
    },
    {
      "cell_type": "code",
      "source": [
        "def fun(i, s, s1):\n",
        "    if i >= len(s):\n",
        "        return s1\n",
        "\n",
        "    s2 = s[i:i+2]\n",
        "    j = int(s2)\n",
        "    if j == 32:\n",
        "        s1 += \" \"\n",
        "    elif (65 <= j <= 91) or (97 <= j <= 99):\n",
        "        s1 += chr(j)\n",
        "    else:\n",
        "        s2 = s[i:i+3]\n",
        "        s1 += chr(int(s2))\n",
        "        return fun(i + 3, s, s1)\n",
        "    return fun(i + 2, s, s1)\n",
        "\n",
        "def main():\n",
        "    s1 = \"\"\n",
        "    s = input()\n",
        "    s = s[::-1]\n",
        "    s1 = fun(0, s, s1)\n",
        "    print(s1)\n",
        "\n",
        "main()"
      ],
      "metadata": {
        "colab": {
          "base_uri": "https://localhost:8080/"
        },
        "id": "HlcbwOo0ZbEP",
        "outputId": "2a0b0cd6-45af-4d4c-d7fc-f6ed4a815b7a"
      },
      "execution_count": null,
      "outputs": [
        {
          "output_type": "stream",
          "name": "stdout",
          "text": [
            "796115110113721110141108\n",
            "PrepInsta\n"
          ]
        }
      ]
    },
    {
      "cell_type": "markdown",
      "source": [
        "Marvel Universe                                                    \n",
        "\n",
        "any team can start first but they will alternatively only.              \n",
        "They can select avenger from any side. But if they start from one  side they cant move to other side in current chance                                       \n",
        "They can select consecutive soldiers as many they want                          \n",
        "They will stop only when all the soldiers are part of either side               \n",
        "Every avenger has a power associated with him                                   \n",
        "There are some spurious soldiers who will decrease the overall power of the team\n",
        "\n",
        "i/p:                                                                            \n",
        "5                                                                         \n",
        "2 -7 8 -1 20                                                                   \n",
        "o/p:                                                              \n",
        "2                                      "
      ],
      "metadata": {
        "id": "pCkhhzy4Wthn"
      }
    },
    {
      "cell_type": "code",
      "source": [
        "def main():\n",
        "  n = int(input())\n",
        "  powers = list(map(int, input().split()))\n",
        "  A = 0\n",
        "  B = 0\n",
        "  powers.sort(key = lambda x : (abs(x), x), reverse = True)\n",
        "  iron = True\n",
        "  for i in powers:\n",
        "    if iron:\n",
        "      A += i\n",
        "    else:\n",
        "      B += i\n",
        "    iron = not iron\n",
        "  powdiff = abs(A-B)\n",
        "  return powdiff\n",
        "\n",
        "if __name__ == '__main__':\n",
        "  main()"
      ],
      "metadata": {
        "colab": {
          "base_uri": "https://localhost:8080/"
        },
        "id": "FQ-vtJjAYEjA",
        "outputId": "f14ae3c3-ef41-45a8-e78f-45256f91ecf9"
      },
      "execution_count": null,
      "outputs": [
        {
          "name": "stdout",
          "output_type": "stream",
          "text": [
            "5\n",
            "2 -7 8 -1 20\n"
          ]
        }
      ]
    },
    {
      "cell_type": "markdown",
      "source": [
        "# DSC Test - 3"
      ],
      "metadata": {
        "id": "yCfzOpxqt7jD"
      }
    },
    {
      "cell_type": "markdown",
      "source": [
        "Shahrukh Khan                                                            \n",
        "N = 57                                                                           \n",
        "R = 75                                                                                    \n",
        "MOD = 10(9) + 7                                                                  \n",
        "N power R modulo MOD = res                                                         \n",
        "\n",
        "input:                                                                           \n",
        "N = 57                                                                            \n",
        "output:                                                                          \n",
        "262042770"
      ],
      "metadata": {
        "id": "IiIT96LkuZWB"
      }
    },
    {
      "cell_type": "code",
      "source": [
        "def powerofNum(N,R):\n",
        "  ans = 1\n",
        "  mod = 1000000007\n",
        "  for i in range(1,R+1):\n",
        "    ans *= N\n",
        "    ans %= mod\n",
        "  return ans\n",
        "N = int(input())\n",
        "R = int(input())\n",
        "print(int(powerofNum(N, R)))"
      ],
      "metadata": {
        "colab": {
          "base_uri": "https://localhost:8080/"
        },
        "id": "rhvm0P03uDT-",
        "outputId": "94052443-9307-4c6e-b3af-60e1143068cd"
      },
      "execution_count": null,
      "outputs": [
        {
          "output_type": "stream",
          "name": "stdout",
          "text": [
            "57\n",
            "75\n",
            "262042770\n"
          ]
        }
      ]
    },
    {
      "cell_type": "markdown",
      "source": [
        "Find the lenght of longest substring which is a palindrome.                                 \n",
        "Substring is a contiguous sequence of characters with in a string                \n",
        "\n",
        "i/p:   aaaabb\n",
        "o/p:   4\n",
        "\n",
        " i/p:   aaaabbaa\n",
        "                                                                                 o/p:    6\n",
        "\n",
        "i/p: banana\n",
        "                                                                                 o/p: 5\n",
        "                                                                                 \n"
      ],
      "metadata": {
        "id": "c6zSxUeXw56g"
      }
    },
    {
      "cell_type": "code",
      "source": [
        "def longest_substring(s):\n",
        "  if not s:\n",
        "    return 0\n",
        "  max_len = 1\n",
        "  curr_len = 1\n",
        "  for i in range(1, len(s)):\n",
        "    if s[i] == s[i-1]:\n",
        "      curr_len += 1\n",
        "    else:\n",
        "      max_len = max(max_len, curr_len)\n",
        "      curr_len = 1\n",
        "    max_len = max(max_len, curr_len)\n",
        "    return max_len\n",
        "s = input().strip()\n",
        "print(longest_substring(s))"
      ],
      "metadata": {
        "colab": {
          "base_uri": "https://localhost:8080/"
        },
        "id": "WxcI47hdxqUX",
        "outputId": "80b69070-f1e8-434d-ef98-6792008e3ab2"
      },
      "execution_count": null,
      "outputs": [
        {
          "output_type": "stream",
          "name": "stdout",
          "text": [
            "aaaabbaa\n",
            "2\n"
          ]
        }
      ]
    }
  ]
}